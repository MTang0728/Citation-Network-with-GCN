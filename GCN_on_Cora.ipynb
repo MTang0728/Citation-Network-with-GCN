{
 "cells": [
  {
   "cell_type": "code",
   "execution_count": 1,
   "metadata": {},
   "outputs": [],
   "source": [
    "# import dependencies\n",
    "import spektral\n",
    "import tensorflow as tf\n",
    "from spektral.layers import GraphConv\n",
    "from tensorflow.keras.models import Model\n",
    "from tensorflow.keras.layers import Input, Dropout"
   ]
  },
  {
   "cell_type": "code",
   "execution_count": 2,
   "metadata": {},
   "outputs": [
    {
     "name": "stdout",
     "output_type": "stream",
     "text": [
      "Loading cora dataset\n",
      "Pre-processing node features\n"
     ]
    }
   ],
   "source": [
    "# load cora data set\n",
    "cora_A, cora_X, cora_L, cora_train_mask, cora_val_mask, cora_test_mask = spektral.datasets.citation.load_data(dataset_name='cora',\n",
    "                                                                                                              normalize_features=True, \n",
    "                                                                                                              random_split=False)"
   ]
  },
  {
   "cell_type": "markdown",
   "metadata": {},
   "source": [
    "cora_A - adjacency matrix\n",
    "\n",
    "cora_X - feature matrix (doc by term)\n",
    "\n",
    "cora_L - label"
   ]
  },
  {
   "cell_type": "code",
   "execution_count": 3,
   "metadata": {},
   "outputs": [],
   "source": [
    "# define number of nodes, features and classes\n",
    "num_cora_nodes = cora_A.shape[0]\n",
    "num_cora_features = cora_X.shape[1]\n",
    "num_cora_classes = cora_L.shape[1]"
   ]
  },
  {
   "cell_type": "code",
   "execution_count": 4,
   "metadata": {},
   "outputs": [
    {
     "name": "stdout",
     "output_type": "stream",
     "text": [
      "shape of cora Adjacency Matrix: 2708 x 2708\n",
      "number of cora features (number of termrs):  1433\n",
      "number of cora classes:  7\n"
     ]
    }
   ],
   "source": [
    "# print out attributes\n",
    "print('shape of cora Adjacency Matrix: {} x {}'.format(num_cora_nodes, num_cora_nodes))\n",
    "print('number of cora features (number of termrs): ', num_cora_features)\n",
    "print('number of cora classes: ', num_cora_classes)"
   ]
  },
  {
   "cell_type": "code",
   "execution_count": 5,
   "metadata": {},
   "outputs": [
    {
     "data": {
      "text/plain": [
       "array([351, 217, 418, 818, 426, 298, 180])"
      ]
     },
     "execution_count": 5,
     "metadata": {},
     "output_type": "execute_result"
    }
   ],
   "source": [
    "# check the distribution of each class for balance\n",
    "cora_L.sum(axis = 0)"
   ]
  },
  {
   "cell_type": "code",
   "execution_count": 6,
   "metadata": {},
   "outputs": [],
   "source": [
    "# define feature and adjacency input to the first GCN layer\n",
    "X_in = Input(shape = (num_cora_features, ))\n",
    "A_in = Input(shape = (num_cora_nodes, ), sparse = True)\n",
    "# construct 3 layers of GCN, features beuing reduced to\n",
    "# 64, 32 and 7 (number of classes)\n",
    "# use drop out of 0.5 to minimize overfitting\n",
    "X_1 = GraphConv(64, 'relu',)([X_in, A_in])\n",
    "X_1 = Dropout(0.5)(X_1)\n",
    "X_2 = GraphConv(32, 'relu')([X_1, A_in])\n",
    "X_2 = Dropout(0.5)(X_2)\n",
    "X_3 = GraphConv(num_cora_classes, 'softmax')([X_2, A_in])\n",
    "# use keras functional API to construct a GCN model\n",
    "cora_model = Model(inputs = [X_in, A_in], outputs = X_3, name = 'cora_GCN_model')"
   ]
  },
  {
   "cell_type": "code",
   "execution_count": 7,
   "metadata": {},
   "outputs": [],
   "source": [
    "# preprocess adjacency matrix to add self-loops and scale edge weights\n",
    "cora_A = GraphConv.preprocess(cora_A).astype('f4')"
   ]
  },
  {
   "cell_type": "code",
   "execution_count": 8,
   "metadata": {},
   "outputs": [
    {
     "name": "stdout",
     "output_type": "stream",
     "text": [
      "Model: \"cora_GCN_model\"\n",
      "__________________________________________________________________________________________________\n",
      "Layer (type)                    Output Shape         Param #     Connected to                     \n",
      "==================================================================================================\n",
      "input_1 (InputLayer)            [(None, 1433)]       0                                            \n",
      "__________________________________________________________________________________________________\n",
      "input_2 (InputLayer)            [(None, 2708)]       0                                            \n",
      "__________________________________________________________________________________________________\n",
      "graph_conv (GraphConv)          (None, 64)           91776       input_1[0][0]                    \n",
      "                                                                 input_2[0][0]                    \n",
      "__________________________________________________________________________________________________\n",
      "dropout (Dropout)               (None, 64)           0           graph_conv[0][0]                 \n",
      "__________________________________________________________________________________________________\n",
      "graph_conv_1 (GraphConv)        (None, 32)           2080        dropout[0][0]                    \n",
      "                                                                 input_2[0][0]                    \n",
      "__________________________________________________________________________________________________\n",
      "dropout_1 (Dropout)             (None, 32)           0           graph_conv_1[0][0]               \n",
      "__________________________________________________________________________________________________\n",
      "graph_conv_2 (GraphConv)        (None, 7)            231         dropout_1[0][0]                  \n",
      "                                                                 input_2[0][0]                    \n",
      "==================================================================================================\n",
      "Total params: 94,087\n",
      "Trainable params: 94,087\n",
      "Non-trainable params: 0\n",
      "__________________________________________________________________________________________________\n"
     ]
    }
   ],
   "source": [
    "# compile model\n",
    "cora_model.compile(optimizer = 'adam',\n",
    "             loss = 'categorical_crossentropy',\n",
    "             weighted_metrics = ['acc', tf.keras.metrics.AUC()])\n",
    "cora_model.summary()"
   ]
  },
  {
   "cell_type": "code",
   "execution_count": 9,
   "metadata": {},
   "outputs": [],
   "source": [
    "# define number of epochs\n",
    "cora_epochs = 100\n",
    "# Prepare data\n",
    "cora_X = cora_X.toarray()"
   ]
  },
  {
   "cell_type": "code",
   "execution_count": 10,
   "metadata": {},
   "outputs": [
    {
     "name": "stdout",
     "output_type": "stream",
     "text": [
      "Epoch 1/100\n",
      "1/1 [==============================] - 1s 951ms/step - loss: 0.1006 - acc: 0.1429 - auc: 0.5000 - val_loss: 0.3591 - val_acc: 0.2340 - val_auc: 0.5012\n",
      "Epoch 2/100\n",
      "1/1 [==============================] - 0s 459ms/step - loss: 0.1005 - acc: 0.1500 - auc: 0.5012 - val_loss: 0.3590 - val_acc: 0.2780 - val_auc: 0.5017\n",
      "Epoch 3/100\n",
      "1/1 [==============================] - 0s 429ms/step - loss: 0.1005 - acc: 0.2143 - auc: 0.5036 - val_loss: 0.3589 - val_acc: 0.3180 - val_auc: 0.5040\n",
      "Epoch 4/100\n",
      "1/1 [==============================] - 0s 488ms/step - loss: 0.1005 - acc: 0.2357 - auc: 0.5077 - val_loss: 0.3588 - val_acc: 0.3460 - val_auc: 0.5053\n",
      "Epoch 5/100\n",
      "1/1 [==============================] - 0s 493ms/step - loss: 0.1004 - acc: 0.2714 - auc: 0.5118 - val_loss: 0.3587 - val_acc: 0.3520 - val_auc: 0.5085\n",
      "Epoch 6/100\n",
      "1/1 [==============================] - 0s 441ms/step - loss: 0.1004 - acc: 0.3429 - auc: 0.5298 - val_loss: 0.3585 - val_acc: 0.3600 - val_auc: 0.5159\n",
      "Epoch 7/100\n",
      "1/1 [==============================] - 1s 503ms/step - loss: 0.1003 - acc: 0.2714 - auc: 0.5511 - val_loss: 0.3584 - val_acc: 0.3620 - val_auc: 0.5266\n",
      "Epoch 8/100\n",
      "1/1 [==============================] - 0s 432ms/step - loss: 0.1003 - acc: 0.3143 - auc: 0.5785 - val_loss: 0.3583 - val_acc: 0.3760 - val_auc: 0.5403\n",
      "Epoch 9/100\n",
      "1/1 [==============================] - 0s 447ms/step - loss: 0.1002 - acc: 0.3286 - auc: 0.5986 - val_loss: 0.3581 - val_acc: 0.3740 - val_auc: 0.5516\n",
      "Epoch 10/100\n",
      "1/1 [==============================] - 0s 416ms/step - loss: 0.1001 - acc: 0.3143 - auc: 0.6183 - val_loss: 0.3579 - val_acc: 0.3660 - val_auc: 0.5646\n",
      "Epoch 11/100\n",
      "1/1 [==============================] - 0s 437ms/step - loss: 0.1000 - acc: 0.3500 - auc: 0.6393 - val_loss: 0.3578 - val_acc: 0.3580 - val_auc: 0.5829\n",
      "Epoch 12/100\n",
      "1/1 [==============================] - 0s 389ms/step - loss: 0.1000 - acc: 0.3714 - auc: 0.6261 - val_loss: 0.3576 - val_acc: 0.3320 - val_auc: 0.6068\n",
      "Epoch 13/100\n",
      "1/1 [==============================] - 0s 381ms/step - loss: 0.1000 - acc: 0.3429 - auc: 0.6467 - val_loss: 0.3574 - val_acc: 0.3220 - val_auc: 0.6214\n",
      "Epoch 14/100\n",
      "1/1 [==============================] - 0s 343ms/step - loss: 0.0998 - acc: 0.3857 - auc: 0.6953 - val_loss: 0.3573 - val_acc: 0.3140 - val_auc: 0.6290\n",
      "Epoch 15/100\n",
      "1/1 [==============================] - 0s 325ms/step - loss: 0.0997 - acc: 0.2857 - auc: 0.7012 - val_loss: 0.3571 - val_acc: 0.2840 - val_auc: 0.6384\n",
      "Epoch 16/100\n",
      "1/1 [==============================] - 0s 332ms/step - loss: 0.0996 - acc: 0.4071 - auc: 0.7052 - val_loss: 0.3569 - val_acc: 0.2540 - val_auc: 0.6419\n",
      "Epoch 17/100\n",
      "1/1 [==============================] - 0s 338ms/step - loss: 0.0995 - acc: 0.3286 - auc: 0.7456 - val_loss: 0.3567 - val_acc: 0.2220 - val_auc: 0.6618\n",
      "Epoch 18/100\n",
      "1/1 [==============================] - 0s 445ms/step - loss: 0.0994 - acc: 0.3143 - auc: 0.7465 - val_loss: 0.3565 - val_acc: 0.1980 - val_auc: 0.6692\n",
      "Epoch 19/100\n",
      "1/1 [==============================] - 0s 330ms/step - loss: 0.0994 - acc: 0.3786 - auc: 0.7651 - val_loss: 0.3563 - val_acc: 0.1820 - val_auc: 0.6749\n",
      "Epoch 20/100\n",
      "1/1 [==============================] - 0s 353ms/step - loss: 0.0991 - acc: 0.3714 - auc: 0.7637 - val_loss: 0.3561 - val_acc: 0.1620 - val_auc: 0.6882\n",
      "Epoch 21/100\n",
      "1/1 [==============================] - 0s 379ms/step - loss: 0.0991 - acc: 0.3643 - auc: 0.7732 - val_loss: 0.3559 - val_acc: 0.1500 - val_auc: 0.6973\n",
      "Epoch 22/100\n",
      "1/1 [==============================] - 0s 328ms/step - loss: 0.0988 - acc: 0.3286 - auc: 0.7962 - val_loss: 0.3557 - val_acc: 0.1360 - val_auc: 0.7044\n",
      "Epoch 23/100\n",
      "1/1 [==============================] - 0s 411ms/step - loss: 0.0988 - acc: 0.3929 - auc: 0.7944 - val_loss: 0.3554 - val_acc: 0.1460 - val_auc: 0.7188\n",
      "Epoch 24/100\n",
      "1/1 [==============================] - 0s 430ms/step - loss: 0.0989 - acc: 0.2857 - auc: 0.7662 - val_loss: 0.3552 - val_acc: 0.1540 - val_auc: 0.7302\n",
      "Epoch 25/100\n",
      "1/1 [==============================] - 0s 447ms/step - loss: 0.0986 - acc: 0.3714 - auc: 0.7976 - val_loss: 0.3549 - val_acc: 0.1780 - val_auc: 0.7369\n",
      "Epoch 26/100\n",
      "1/1 [==============================] - 0s 484ms/step - loss: 0.0984 - acc: 0.3286 - auc: 0.8022 - val_loss: 0.3545 - val_acc: 0.1980 - val_auc: 0.7483\n",
      "Epoch 27/100\n",
      "1/1 [==============================] - 0s 437ms/step - loss: 0.0983 - acc: 0.3786 - auc: 0.8219 - val_loss: 0.3542 - val_acc: 0.2360 - val_auc: 0.7628\n",
      "Epoch 28/100\n",
      "1/1 [==============================] - 1s 570ms/step - loss: 0.0979 - acc: 0.4571 - auc: 0.8443 - val_loss: 0.3538 - val_acc: 0.2640 - val_auc: 0.7752\n",
      "Epoch 29/100\n",
      "1/1 [==============================] - 0s 464ms/step - loss: 0.0980 - acc: 0.4429 - auc: 0.8362 - val_loss: 0.3534 - val_acc: 0.2860 - val_auc: 0.7878\n",
      "Epoch 30/100\n",
      "1/1 [==============================] - 0s 482ms/step - loss: 0.0977 - acc: 0.5000 - auc: 0.8408 - val_loss: 0.3530 - val_acc: 0.3080 - val_auc: 0.7935\n",
      "Epoch 31/100\n",
      "1/1 [==============================] - 0s 464ms/step - loss: 0.0977 - acc: 0.4357 - auc: 0.8393 - val_loss: 0.3526 - val_acc: 0.3260 - val_auc: 0.7955\n",
      "Epoch 32/100\n",
      "1/1 [==============================] - 0s 454ms/step - loss: 0.0975 - acc: 0.5000 - auc: 0.8478 - val_loss: 0.3521 - val_acc: 0.3420 - val_auc: 0.7990\n",
      "Epoch 33/100\n",
      "1/1 [==============================] - 0s 436ms/step - loss: 0.0973 - acc: 0.4929 - auc: 0.8532 - val_loss: 0.3517 - val_acc: 0.3560 - val_auc: 0.8018\n",
      "Epoch 34/100\n",
      "1/1 [==============================] - 0s 419ms/step - loss: 0.0970 - acc: 0.4714 - auc: 0.8606 - val_loss: 0.3513 - val_acc: 0.3680 - val_auc: 0.8070\n",
      "Epoch 35/100\n",
      "1/1 [==============================] - 0s 402ms/step - loss: 0.0970 - acc: 0.4929 - auc: 0.8599 - val_loss: 0.3508 - val_acc: 0.3820 - val_auc: 0.8106\n",
      "Epoch 36/100\n",
      "1/1 [==============================] - 0s 398ms/step - loss: 0.0966 - acc: 0.4786 - auc: 0.8600 - val_loss: 0.3503 - val_acc: 0.3800 - val_auc: 0.8134\n",
      "Epoch 37/100\n",
      "1/1 [==============================] - 0s 382ms/step - loss: 0.0963 - acc: 0.5714 - auc: 0.8669 - val_loss: 0.3498 - val_acc: 0.3740 - val_auc: 0.8154\n",
      "Epoch 38/100\n",
      "1/1 [==============================] - 0s 350ms/step - loss: 0.0961 - acc: 0.5357 - auc: 0.8732 - val_loss: 0.3494 - val_acc: 0.3680 - val_auc: 0.8129\n",
      "Epoch 39/100\n",
      "1/1 [==============================] - 0s 350ms/step - loss: 0.0957 - acc: 0.5571 - auc: 0.8894 - val_loss: 0.3489 - val_acc: 0.3520 - val_auc: 0.8127\n",
      "Epoch 40/100\n",
      "1/1 [==============================] - 1s 907ms/step - loss: 0.0956 - acc: 0.5357 - auc: 0.8689 - val_loss: 0.3484 - val_acc: 0.3500 - val_auc: 0.8111\n",
      "Epoch 41/100\n",
      "1/1 [==============================] - 0s 450ms/step - loss: 0.0955 - acc: 0.4643 - auc: 0.8583 - val_loss: 0.3478 - val_acc: 0.3540 - val_auc: 0.8109\n",
      "Epoch 42/100\n",
      "1/1 [==============================] - 0s 470ms/step - loss: 0.0953 - acc: 0.5143 - auc: 0.8785 - val_loss: 0.3471 - val_acc: 0.3660 - val_auc: 0.8131\n",
      "Epoch 43/100\n",
      "1/1 [==============================] - 0s 421ms/step - loss: 0.0951 - acc: 0.5214 - auc: 0.8554 - val_loss: 0.3466 - val_acc: 0.3700 - val_auc: 0.8143\n",
      "Epoch 44/100\n",
      "1/1 [==============================] - 0s 396ms/step - loss: 0.0948 - acc: 0.5214 - auc: 0.8685 - val_loss: 0.3460 - val_acc: 0.3700 - val_auc: 0.8175\n",
      "Epoch 45/100\n",
      "1/1 [==============================] - 0s 381ms/step - loss: 0.0944 - acc: 0.5429 - auc: 0.8776 - val_loss: 0.3454 - val_acc: 0.3720 - val_auc: 0.8189\n",
      "Epoch 46/100\n",
      "1/1 [==============================] - 0s 424ms/step - loss: 0.0941 - acc: 0.5143 - auc: 0.8702 - val_loss: 0.3447 - val_acc: 0.3980 - val_auc: 0.8232\n",
      "Epoch 47/100\n",
      "1/1 [==============================] - 0s 448ms/step - loss: 0.0939 - acc: 0.5286 - auc: 0.8706 - val_loss: 0.3441 - val_acc: 0.4140 - val_auc: 0.8271\n",
      "Epoch 48/100\n",
      "1/1 [==============================] - 0s 449ms/step - loss: 0.0938 - acc: 0.5500 - auc: 0.8876 - val_loss: 0.3434 - val_acc: 0.4260 - val_auc: 0.8302\n",
      "Epoch 49/100\n",
      "1/1 [==============================] - 1s 604ms/step - loss: 0.0933 - acc: 0.5714 - auc: 0.8816 - val_loss: 0.3427 - val_acc: 0.4400 - val_auc: 0.8348\n",
      "Epoch 50/100\n",
      "1/1 [==============================] - 0s 447ms/step - loss: 0.0927 - acc: 0.6000 - auc: 0.8972 - val_loss: 0.3420 - val_acc: 0.4520 - val_auc: 0.8357\n",
      "Epoch 51/100\n",
      "1/1 [==============================] - 0s 499ms/step - loss: 0.0926 - acc: 0.5714 - auc: 0.8922 - val_loss: 0.3412 - val_acc: 0.4600 - val_auc: 0.8370\n",
      "Epoch 52/100\n",
      "1/1 [==============================] - 0s 454ms/step - loss: 0.0929 - acc: 0.5857 - auc: 0.8794 - val_loss: 0.3404 - val_acc: 0.4700 - val_auc: 0.8387\n",
      "Epoch 53/100\n",
      "1/1 [==============================] - 0s 427ms/step - loss: 0.0920 - acc: 0.5571 - auc: 0.8947 - val_loss: 0.3396 - val_acc: 0.4700 - val_auc: 0.8405\n",
      "Epoch 54/100\n",
      "1/1 [==============================] - 0s 495ms/step - loss: 0.0913 - acc: 0.6071 - auc: 0.9072 - val_loss: 0.3387 - val_acc: 0.4680 - val_auc: 0.8388\n",
      "Epoch 55/100\n",
      "1/1 [==============================] - 0s 430ms/step - loss: 0.0911 - acc: 0.5714 - auc: 0.8902 - val_loss: 0.3379 - val_acc: 0.4720 - val_auc: 0.8390\n",
      "Epoch 56/100\n",
      "1/1 [==============================] - 0s 433ms/step - loss: 0.0908 - acc: 0.6000 - auc: 0.8915 - val_loss: 0.3370 - val_acc: 0.4740 - val_auc: 0.8399\n",
      "Epoch 57/100\n",
      "1/1 [==============================] - 0s 388ms/step - loss: 0.0901 - acc: 0.6214 - auc: 0.8978 - val_loss: 0.3362 - val_acc: 0.4720 - val_auc: 0.8398\n",
      "Epoch 58/100\n",
      "1/1 [==============================] - 0s 359ms/step - loss: 0.0902 - acc: 0.6500 - auc: 0.9050 - val_loss: 0.3354 - val_acc: 0.4720 - val_auc: 0.8403\n",
      "Epoch 59/100\n",
      "1/1 [==============================] - 0s 380ms/step - loss: 0.0896 - acc: 0.6000 - auc: 0.9001 - val_loss: 0.3346 - val_acc: 0.4700 - val_auc: 0.8414\n",
      "Epoch 60/100\n",
      "1/1 [==============================] - 0s 347ms/step - loss: 0.0898 - acc: 0.6143 - auc: 0.8947 - val_loss: 0.3339 - val_acc: 0.4700 - val_auc: 0.8430\n",
      "Epoch 61/100\n",
      "1/1 [==============================] - 0s 351ms/step - loss: 0.0891 - acc: 0.6214 - auc: 0.9028 - val_loss: 0.3331 - val_acc: 0.4720 - val_auc: 0.8458\n",
      "Epoch 62/100\n",
      "1/1 [==============================] - 0s 333ms/step - loss: 0.0879 - acc: 0.6714 - auc: 0.9193 - val_loss: 0.3324 - val_acc: 0.4680 - val_auc: 0.8474\n",
      "Epoch 63/100\n",
      "1/1 [==============================] - 0s 342ms/step - loss: 0.0886 - acc: 0.6000 - auc: 0.8974 - val_loss: 0.3315 - val_acc: 0.4760 - val_auc: 0.8493\n",
      "Epoch 64/100\n",
      "1/1 [==============================] - 0s 429ms/step - loss: 0.0874 - acc: 0.6071 - auc: 0.9187 - val_loss: 0.3307 - val_acc: 0.4800 - val_auc: 0.8514\n",
      "Epoch 65/100\n",
      "1/1 [==============================] - 0s 353ms/step - loss: 0.0868 - acc: 0.6357 - auc: 0.9165 - val_loss: 0.3298 - val_acc: 0.4900 - val_auc: 0.8540\n",
      "Epoch 66/100\n",
      "1/1 [==============================] - 0s 391ms/step - loss: 0.0864 - acc: 0.6786 - auc: 0.9241 - val_loss: 0.3288 - val_acc: 0.5060 - val_auc: 0.8559\n",
      "Epoch 67/100\n",
      "1/1 [==============================] - 0s 415ms/step - loss: 0.0859 - acc: 0.7071 - auc: 0.9189 - val_loss: 0.3276 - val_acc: 0.5120 - val_auc: 0.8601\n",
      "Epoch 68/100\n",
      "1/1 [==============================] - 0s 451ms/step - loss: 0.0853 - acc: 0.7214 - auc: 0.9261 - val_loss: 0.3265 - val_acc: 0.5360 - val_auc: 0.8627\n",
      "Epoch 69/100\n",
      "1/1 [==============================] - 0s 460ms/step - loss: 0.0845 - acc: 0.7214 - auc: 0.9304 - val_loss: 0.3252 - val_acc: 0.5380 - val_auc: 0.8646\n",
      "Epoch 70/100\n",
      "1/1 [==============================] - 0s 420ms/step - loss: 0.0848 - acc: 0.6714 - auc: 0.9158 - val_loss: 0.3240 - val_acc: 0.5540 - val_auc: 0.8663\n",
      "Epoch 71/100\n",
      "1/1 [==============================] - 1s 523ms/step - loss: 0.0847 - acc: 0.6571 - auc: 0.9263 - val_loss: 0.3228 - val_acc: 0.5580 - val_auc: 0.8673\n",
      "Epoch 72/100\n",
      "1/1 [==============================] - 0s 445ms/step - loss: 0.0837 - acc: 0.7286 - auc: 0.9276 - val_loss: 0.3216 - val_acc: 0.5580 - val_auc: 0.8677\n",
      "Epoch 73/100\n",
      "1/1 [==============================] - 0s 435ms/step - loss: 0.0834 - acc: 0.7143 - auc: 0.9284 - val_loss: 0.3203 - val_acc: 0.5600 - val_auc: 0.8687\n",
      "Epoch 74/100\n",
      "1/1 [==============================] - 0s 447ms/step - loss: 0.0832 - acc: 0.7143 - auc: 0.9262 - val_loss: 0.3191 - val_acc: 0.5620 - val_auc: 0.8694\n",
      "Epoch 75/100\n",
      "1/1 [==============================] - 0s 411ms/step - loss: 0.0821 - acc: 0.7214 - auc: 0.9341 - val_loss: 0.3179 - val_acc: 0.5780 - val_auc: 0.8715\n",
      "Epoch 76/100\n",
      "1/1 [==============================] - 0s 401ms/step - loss: 0.0817 - acc: 0.7357 - auc: 0.9331 - val_loss: 0.3167 - val_acc: 0.5840 - val_auc: 0.8747\n",
      "Epoch 77/100\n",
      "1/1 [==============================] - 0s 384ms/step - loss: 0.0811 - acc: 0.6786 - auc: 0.9329 - val_loss: 0.3155 - val_acc: 0.5900 - val_auc: 0.8780\n",
      "Epoch 78/100\n",
      "1/1 [==============================] - 0s 380ms/step - loss: 0.0804 - acc: 0.7286 - auc: 0.9343 - val_loss: 0.3142 - val_acc: 0.6000 - val_auc: 0.8824\n",
      "Epoch 79/100\n",
      "1/1 [==============================] - 0s 369ms/step - loss: 0.0803 - acc: 0.7357 - auc: 0.9374 - val_loss: 0.3130 - val_acc: 0.6100 - val_auc: 0.8862\n",
      "Epoch 80/100\n",
      "1/1 [==============================] - 0s 436ms/step - loss: 0.0807 - acc: 0.7500 - auc: 0.9422 - val_loss: 0.3117 - val_acc: 0.6200 - val_auc: 0.8894\n",
      "Epoch 81/100\n",
      "1/1 [==============================] - 0s 348ms/step - loss: 0.0799 - acc: 0.7429 - auc: 0.9433 - val_loss: 0.3106 - val_acc: 0.6340 - val_auc: 0.8927\n",
      "Epoch 82/100\n",
      "1/1 [==============================] - 0s 337ms/step - loss: 0.0790 - acc: 0.7357 - auc: 0.9423 - val_loss: 0.3093 - val_acc: 0.6440 - val_auc: 0.8957\n",
      "Epoch 83/100\n",
      "1/1 [==============================] - 0s 335ms/step - loss: 0.0782 - acc: 0.7429 - auc: 0.9503 - val_loss: 0.3080 - val_acc: 0.6500 - val_auc: 0.8984\n",
      "Epoch 84/100\n",
      "1/1 [==============================] - 0s 339ms/step - loss: 0.0772 - acc: 0.8000 - auc: 0.9564 - val_loss: 0.3067 - val_acc: 0.6560 - val_auc: 0.8997\n",
      "Epoch 85/100\n",
      "1/1 [==============================] - 0s 340ms/step - loss: 0.0771 - acc: 0.7786 - auc: 0.9468 - val_loss: 0.3053 - val_acc: 0.6620 - val_auc: 0.9007\n",
      "Epoch 86/100\n",
      "1/1 [==============================] - 0s 328ms/step - loss: 0.0757 - acc: 0.7786 - auc: 0.9578 - val_loss: 0.3039 - val_acc: 0.6620 - val_auc: 0.9009\n",
      "Epoch 87/100\n",
      "1/1 [==============================] - 0s 333ms/step - loss: 0.0756 - acc: 0.8143 - auc: 0.9588 - val_loss: 0.3024 - val_acc: 0.6620 - val_auc: 0.9018\n",
      "Epoch 88/100\n",
      "1/1 [==============================] - 0s 338ms/step - loss: 0.0742 - acc: 0.8071 - auc: 0.9596 - val_loss: 0.3010 - val_acc: 0.6580 - val_auc: 0.9022\n",
      "Epoch 89/100\n",
      "1/1 [==============================] - 0s 441ms/step - loss: 0.0748 - acc: 0.7786 - auc: 0.9479 - val_loss: 0.2995 - val_acc: 0.6620 - val_auc: 0.9025\n",
      "Epoch 90/100\n",
      "1/1 [==============================] - 0s 418ms/step - loss: 0.0738 - acc: 0.7429 - auc: 0.9547 - val_loss: 0.2981 - val_acc: 0.6680 - val_auc: 0.9042\n",
      "Epoch 91/100\n",
      "1/1 [==============================] - 0s 397ms/step - loss: 0.0736 - acc: 0.8214 - auc: 0.9563 - val_loss: 0.2966 - val_acc: 0.6700 - val_auc: 0.9058\n",
      "Epoch 92/100\n",
      "1/1 [==============================] - 0s 438ms/step - loss: 0.0731 - acc: 0.7643 - auc: 0.9548 - val_loss: 0.2951 - val_acc: 0.6800 - val_auc: 0.9079\n",
      "Epoch 93/100\n",
      "1/1 [==============================] - 0s 398ms/step - loss: 0.0717 - acc: 0.8429 - auc: 0.9656 - val_loss: 0.2937 - val_acc: 0.6800 - val_auc: 0.9090\n",
      "Epoch 94/100\n",
      "1/1 [==============================] - 0s 417ms/step - loss: 0.0717 - acc: 0.8143 - auc: 0.9629 - val_loss: 0.2922 - val_acc: 0.6940 - val_auc: 0.9107\n",
      "Epoch 95/100\n",
      "1/1 [==============================] - 0s 435ms/step - loss: 0.0705 - acc: 0.8071 - auc: 0.9637 - val_loss: 0.2906 - val_acc: 0.6960 - val_auc: 0.9126\n",
      "Epoch 96/100\n",
      "1/1 [==============================] - 0s 439ms/step - loss: 0.0705 - acc: 0.7857 - auc: 0.9606 - val_loss: 0.2890 - val_acc: 0.7020 - val_auc: 0.9138\n",
      "Epoch 97/100\n",
      "1/1 [==============================] - 0s 499ms/step - loss: 0.0699 - acc: 0.8214 - auc: 0.9651 - val_loss: 0.2875 - val_acc: 0.7100 - val_auc: 0.9156\n",
      "Epoch 98/100\n",
      "1/1 [==============================] - 0s 427ms/step - loss: 0.0698 - acc: 0.8429 - auc: 0.9627 - val_loss: 0.2860 - val_acc: 0.7060 - val_auc: 0.9166\n",
      "Epoch 99/100\n",
      "1/1 [==============================] - 0s 452ms/step - loss: 0.0680 - acc: 0.8500 - auc: 0.9715 - val_loss: 0.2845 - val_acc: 0.7080 - val_auc: 0.9176\n",
      "Epoch 100/100\n",
      "1/1 [==============================] - 0s 424ms/step - loss: 0.0679 - acc: 0.8429 - auc: 0.9673 - val_loss: 0.2829 - val_acc: 0.7120 - val_auc: 0.9191\n"
     ]
    },
    {
     "data": {
      "text/plain": [
       "<tensorflow.python.keras.callbacks.History at 0x132e0f150>"
      ]
     },
     "execution_count": 10,
     "metadata": {},
     "output_type": "execute_result"
    }
   ],
   "source": [
    "# prepare val data\n",
    "cora_val_data = ([cora_X, cora_A], cora_L, cora_val_mask)\n",
    "\n",
    "# Train model\n",
    "cora_model.fit([cora_X, cora_A], cora_L,\n",
    "               sample_weight = cora_train_mask,\n",
    "               validation_data = cora_val_data,\n",
    "               epochs = cora_epochs,\n",
    "               batch_size = num_cora_nodes,\n",
    "               shuffle = False)"
   ]
  },
  {
   "cell_type": "code",
   "execution_count": 11,
   "metadata": {},
   "outputs": [
    {
     "name": "stdout",
     "output_type": "stream",
     "text": [
      "1/1 [==============================] - 0s 1ms/step - loss: 0.5619 - acc: 0.7460 - auc: 0.9231\n",
      "Done.\n",
      "Test loss: 0.5618841052055359\n",
      "Test accuracy: 0.7459999918937683\n"
     ]
    }
   ],
   "source": [
    "# Evaluate model\n",
    "eval_results = cora_model.evaluate([cora_X, cora_A], \n",
    "                                   cora_L,\n",
    "                                   sample_weight = cora_test_mask,\n",
    "                                   batch_size = num_cora_nodes)\n",
    "print('Done.\\n'\n",
    "      'Test loss: {}\\n'\n",
    "      'Test accuracy: {}'.format(*eval_results))"
   ]
  },
  {
   "cell_type": "code",
   "execution_count": null,
   "metadata": {},
   "outputs": [],
   "source": []
  },
  {
   "cell_type": "code",
   "execution_count": null,
   "metadata": {},
   "outputs": [],
   "source": []
  },
  {
   "cell_type": "code",
   "execution_count": null,
   "metadata": {},
   "outputs": [],
   "source": []
  },
  {
   "cell_type": "code",
   "execution_count": null,
   "metadata": {},
   "outputs": [],
   "source": []
  },
  {
   "cell_type": "code",
   "execution_count": null,
   "metadata": {},
   "outputs": [],
   "source": []
  }
 ],
 "metadata": {
  "kernelspec": {
   "display_name": "Python 3",
   "language": "python",
   "name": "python3"
  },
  "language_info": {
   "codemirror_mode": {
    "name": "ipython",
    "version": 3
   },
   "file_extension": ".py",
   "mimetype": "text/x-python",
   "name": "python",
   "nbconvert_exporter": "python",
   "pygments_lexer": "ipython3",
   "version": "3.7.6"
  }
 },
 "nbformat": 4,
 "nbformat_minor": 4
}
